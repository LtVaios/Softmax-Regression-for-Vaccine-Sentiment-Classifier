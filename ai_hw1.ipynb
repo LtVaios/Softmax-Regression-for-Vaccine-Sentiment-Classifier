{
  "nbformat": 4,
  "nbformat_minor": 0,
  "metadata": {
    "colab": {
      "name": "ai_hw1.ipynb",
      "provenance": [],
      "collapsed_sections": []
    },
    "kernelspec": {
      "name": "python3",
      "display_name": "Python 3"
    },
    "language_info": {
      "name": "python"
    }
  },
  "cells": [
    {
      "cell_type": "markdown",
      "metadata": {
        "id": "BuPg2ypIa3Ph"
      },
      "source": [
        "Import all required libraries"
      ]
    },
    {
      "cell_type": "code",
      "metadata": {
        "id": "LoHcBLusaucO"
      },
      "source": [
        "import pandas as pd\n",
        "from sklearn.linear_model import LogisticRegression\n",
        "from sklearn.feature_extraction.text import *\n",
        "from sklearn.metrics import f1_score,precision_score,recall_score,confusion_matrix,accuracy_score\n",
        "from sklearn.model_selection import learning_curve,train_test_split\n",
        "import numpy as np\n",
        "import matplotlib.pyplot as plt\n",
        "from sklearn.naive_bayes import GaussianNB\n",
        "from sklearn.model_selection import learning_curve,ShuffleSplit\n",
        "import nltk\n",
        "from nltk.corpus import stopwords\n",
        "from nltk.tokenize import word_tokenize,RegexpTokenizer\n",
        "from nltk.stem import PorterStemmer"
      ],
      "execution_count": null,
      "outputs": []
    },
    {
      "cell_type": "markdown",
      "metadata": {
        "id": "gTm7vO-xbAln"
      },
      "source": [
        "Read and initialize train and test dataset (current test dataset is the validation dataset given). You can change the test dataset by changing the testset's path. Note that I personally made a custom folder named \"data\" where I uploaded the datasets during production"
      ]
    },
    {
      "cell_type": "code",
      "metadata": {
        "id": "lLJD4YjtbKOV"
      },
      "source": [
        "#dataset and variables initialization\n",
        "pd.options.mode.chained_assignment = None\n",
        "fields = ['tweet', 'label']\n",
        "trainset = pd.read_csv(\"/content/data/vs_train.csv\", usecols=fields)\n",
        "testset = pd.read_csv(\"/content/data/vs_dev.csv\", usecols=fields)"
      ],
      "execution_count": null,
      "outputs": []
    },
    {
      "cell_type": "markdown",
      "metadata": {
        "id": "djJs_iY6gW-t"
      },
      "source": [
        "Let's see how the database is structured"
      ]
    },
    {
      "cell_type": "code",
      "metadata": {
        "colab": {
          "base_uri": "https://localhost:8080/",
          "height": 206
        },
        "id": "v3UWIRpjgUM0",
        "outputId": "2410891b-26c6-43ec-e56c-42fc14a43fcb"
      },
      "source": [
        "trainset.head()"
      ],
      "execution_count": null,
      "outputs": [
        {
          "output_type": "execute_result",
          "data": {
            "text/html": [
              "<div>\n",
              "<style scoped>\n",
              "    .dataframe tbody tr th:only-of-type {\n",
              "        vertical-align: middle;\n",
              "    }\n",
              "\n",
              "    .dataframe tbody tr th {\n",
              "        vertical-align: top;\n",
              "    }\n",
              "\n",
              "    .dataframe thead th {\n",
              "        text-align: right;\n",
              "    }\n",
              "</style>\n",
              "<table border=\"1\" class=\"dataframe\">\n",
              "  <thead>\n",
              "    <tr style=\"text-align: right;\">\n",
              "      <th></th>\n",
              "      <th>tweet</th>\n",
              "      <th>label</th>\n",
              "    </tr>\n",
              "  </thead>\n",
              "  <tbody>\n",
              "    <tr>\n",
              "      <th>0</th>\n",
              "      <td>Sip N Shop Come thru right now #Marjais #Popul...</td>\n",
              "      <td>0</td>\n",
              "    </tr>\n",
              "    <tr>\n",
              "      <th>1</th>\n",
              "      <td>I don't know about you but My family and I wil...</td>\n",
              "      <td>1</td>\n",
              "    </tr>\n",
              "    <tr>\n",
              "      <th>2</th>\n",
              "      <td>@MSignorile Immunizations should be mandatory....</td>\n",
              "      <td>2</td>\n",
              "    </tr>\n",
              "    <tr>\n",
              "      <th>3</th>\n",
              "      <td>President Obama spoke in favor of vaccination ...</td>\n",
              "      <td>0</td>\n",
              "    </tr>\n",
              "    <tr>\n",
              "      <th>4</th>\n",
              "      <td>\"@myfoxla: Arizona monitoring hundreds for mea...</td>\n",
              "      <td>0</td>\n",
              "    </tr>\n",
              "  </tbody>\n",
              "</table>\n",
              "</div>"
            ],
            "text/plain": [
              "                                               tweet  label\n",
              "0  Sip N Shop Come thru right now #Marjais #Popul...      0\n",
              "1  I don't know about you but My family and I wil...      1\n",
              "2  @MSignorile Immunizations should be mandatory....      2\n",
              "3  President Obama spoke in favor of vaccination ...      0\n",
              "4  \"@myfoxla: Arizona monitoring hundreds for mea...      0"
            ]
          },
          "metadata": {},
          "execution_count": 3
        }
      ]
    },
    {
      "cell_type": "markdown",
      "metadata": {
        "id": "dBviONCN2tM3"
      },
      "source": [
        "Here we see some stats about the dataset and we can understand it has 15976 sample tweets and the mean is at 0.93 so the dataset propably has a lot of classes of 0."
      ]
    },
    {
      "cell_type": "code",
      "metadata": {
        "colab": {
          "base_uri": "https://localhost:8080/",
          "height": 300
        },
        "id": "KjKAZH_ofuld",
        "outputId": "9ecb2b82-a7e9-406a-b81c-9f25a98896fd"
      },
      "source": [
        "trainset.describe()"
      ],
      "execution_count": null,
      "outputs": [
        {
          "output_type": "execute_result",
          "data": {
            "text/html": [
              "<div>\n",
              "<style scoped>\n",
              "    .dataframe tbody tr th:only-of-type {\n",
              "        vertical-align: middle;\n",
              "    }\n",
              "\n",
              "    .dataframe tbody tr th {\n",
              "        vertical-align: top;\n",
              "    }\n",
              "\n",
              "    .dataframe thead th {\n",
              "        text-align: right;\n",
              "    }\n",
              "</style>\n",
              "<table border=\"1\" class=\"dataframe\">\n",
              "  <thead>\n",
              "    <tr style=\"text-align: right;\">\n",
              "      <th></th>\n",
              "      <th>label</th>\n",
              "    </tr>\n",
              "  </thead>\n",
              "  <tbody>\n",
              "    <tr>\n",
              "      <th>count</th>\n",
              "      <td>15976.000000</td>\n",
              "    </tr>\n",
              "    <tr>\n",
              "      <th>mean</th>\n",
              "      <td>0.936592</td>\n",
              "    </tr>\n",
              "    <tr>\n",
              "      <th>std</th>\n",
              "      <td>0.930740</td>\n",
              "    </tr>\n",
              "    <tr>\n",
              "      <th>min</th>\n",
              "      <td>0.000000</td>\n",
              "    </tr>\n",
              "    <tr>\n",
              "      <th>25%</th>\n",
              "      <td>0.000000</td>\n",
              "    </tr>\n",
              "    <tr>\n",
              "      <th>50%</th>\n",
              "      <td>1.000000</td>\n",
              "    </tr>\n",
              "    <tr>\n",
              "      <th>75%</th>\n",
              "      <td>2.000000</td>\n",
              "    </tr>\n",
              "    <tr>\n",
              "      <th>max</th>\n",
              "      <td>2.000000</td>\n",
              "    </tr>\n",
              "  </tbody>\n",
              "</table>\n",
              "</div>"
            ],
            "text/plain": [
              "              label\n",
              "count  15976.000000\n",
              "mean       0.936592\n",
              "std        0.930740\n",
              "min        0.000000\n",
              "25%        0.000000\n",
              "50%        1.000000\n",
              "75%        2.000000\n",
              "max        2.000000"
            ]
          },
          "metadata": {},
          "execution_count": 4
        }
      ]
    },
    {
      "cell_type": "markdown",
      "metadata": {
        "id": "MNlYumJihGf8"
      },
      "source": [
        "Training and validation datasets Array initialization. We basically split the dataset into tweet and label so we are able to clean it without occuring any problem to the label of each tweet. The last 2 rows are some required datasets of stopwords etc included by the NLTK library which are used after to clean the data."
      ]
    },
    {
      "cell_type": "code",
      "metadata": {
        "id": "Ccvm4fzkhIFA",
        "colab": {
          "base_uri": "https://localhost:8080/"
        },
        "outputId": "99f0ca0d-20ad-4fec-ea0e-0e6669e7d5ca"
      },
      "source": [
        "X_train = []\n",
        "Y_train = []\n",
        "X_train = trainset.tweet\n",
        "Y_train = trainset.label\n",
        "X_test = []\n",
        "Y_test = []\n",
        "X_test = testset.tweet\n",
        "Y_test = testset.label\n",
        "\n",
        "#nltk stopwords and punctuation datasets download\n",
        "nltk.download('stopwords')\n",
        "nltk.download('punkt')"
      ],
      "execution_count": null,
      "outputs": [
        {
          "output_type": "stream",
          "name": "stdout",
          "text": [
            "[nltk_data] Downloading package stopwords to /root/nltk_data...\n",
            "[nltk_data]   Unzipping corpora/stopwords.zip.\n",
            "[nltk_data] Downloading package punkt to /root/nltk_data...\n",
            "[nltk_data]   Unzipping tokenizers/punkt.zip.\n"
          ]
        },
        {
          "output_type": "execute_result",
          "data": {
            "text/plain": [
              "True"
            ]
          },
          "metadata": {},
          "execution_count": 5
        }
      ]
    },
    {
      "cell_type": "markdown",
      "metadata": {
        "id": "y5inAlrgqsv2"
      },
      "source": [
        "This cleaning function works like this:\n",
        "▶For each row in the sample\n",
        "▶Split it into tokens\n",
        "▶if a token is in the stopwords or it is a link continue in the next iteration\n",
        "▶if it is not then clean it of unecessary symbols and add it back to the sample"
      ]
    },
    {
      "cell_type": "code",
      "metadata": {
        "id": "rZy_lpTiq1JI"
      },
      "source": [
        "#data cleaning function\n",
        "def clean_data(dataset):\n",
        "    stop_words = set(stopwords.words('english'))\n",
        "    new_dataset = []\n",
        "    for row in dataset:\n",
        "      dataset_tokens = word_tokenize(row)\n",
        "      filtered = \"\"\n",
        "      for w in dataset_tokens:\n",
        "        if (w not in stop_words) and (\"http\" not in w):\n",
        "          if ('#' in w) or ('@' in w):\n",
        "            w.replace('#','')\n",
        "            w.replace('@','')\n",
        "            w.replace(',','')\n",
        "            w.replace('.','')\n",
        "          filtered = filtered + \" \" + w\n",
        "      new_dataset.append(filtered)\n",
        "    return new_dataset\n",
        "#Clean the train and test tweet samples\n",
        "X_train = clean_data(X_train)\n",
        "X_test = clean_data(X_test)"
      ],
      "execution_count": null,
      "outputs": []
    },
    {
      "cell_type": "markdown",
      "metadata": {
        "id": "0r42RVGLqBpa"
      },
      "source": [
        "Count vectorizer (pretty bad scores in the model around 45% - 60%)"
      ]
    },
    {
      "cell_type": "code",
      "metadata": {
        "id": "Q-yKnT6yqJLL"
      },
      "source": [
        "vectorizer = CountVectorizer(max_features=4000)"
      ],
      "execution_count": null,
      "outputs": []
    },
    {
      "cell_type": "markdown",
      "metadata": {
        "id": "e6e5tEgzqMHf"
      },
      "source": [
        "Hashing Vectorizer. The best vectorizer with score > 65% in most of the tests. Also the best of three with the highest score at 71.3%."
      ]
    },
    {
      "cell_type": "code",
      "metadata": {
        "id": "yXSGs6MyqTE6"
      },
      "source": [
        "vectorizer = HashingVectorizer(n_features=3000)"
      ],
      "execution_count": null,
      "outputs": []
    },
    {
      "cell_type": "markdown",
      "metadata": {
        "id": "-utcibZJqXRR"
      },
      "source": [
        "TF-IDF Vectorizer. An also very bad vectorizer that it's scores go around 50% with whichever tweeks I tried."
      ]
    },
    {
      "cell_type": "code",
      "metadata": {
        "id": "ZAKftv-bqbZr"
      },
      "source": [
        "vectorizer = TfidfVectorizer(max_features=1000)"
      ],
      "execution_count": null,
      "outputs": []
    },
    {
      "cell_type": "markdown",
      "metadata": {
        "id": "C9h5d4ikgfxz"
      },
      "source": [
        "Tokenization, vectorizing and training\n"
      ]
    },
    {
      "cell_type": "code",
      "metadata": {
        "id": "p5O5vo2SghBa"
      },
      "source": [
        "X_train_vector = vectorizer.fit_transform(X_train)\n",
        "model = LogisticRegression(max_iter=5000, multi_class='multinomial').fit(X_train_vector,Y_train)"
      ],
      "execution_count": null,
      "outputs": []
    },
    {
      "cell_type": "markdown",
      "metadata": {
        "id": "blsS7xjZpq-T"
      },
      "source": [
        "Predictions and score"
      ]
    },
    {
      "cell_type": "code",
      "metadata": {
        "colab": {
          "base_uri": "https://localhost:8080/"
        },
        "id": "uiCMdY-Zpqbc",
        "outputId": "daf02f4b-4537-4f95-d3ca-874c1fcd784d"
      },
      "source": [
        "#predict and calculate scores\n",
        "X_test_vector = vectorizer.fit_transform(X_test)\n",
        "predictions = model.predict(X_test_vector)\n",
        "f1_micro = f1_score(Y_test, predictions, average='micro')\n",
        "f1_weighted = f1_score(Y_test, predictions, average='weighted')\n",
        "acc_score = accuracy_score(Y_test,predictions)\n",
        "#Print scores\n",
        "print(\"f1-micro: \", f1_micro*100,\"%\")\n",
        "print(\"f1-weighted score: \", f1_weighted*100,\"%\")\n",
        "print(\"accuracy score: \", acc_score*100,\"%\")"
      ],
      "execution_count": null,
      "outputs": [
        {
          "output_type": "stream",
          "name": "stdout",
          "text": [
            "f1-micro:  71.38475021910604 %\n",
            "f1-weighted score:  70.47764624032976 %\n",
            "accuracy score:  71.38475021910605 %\n"
          ]
        }
      ]
    },
    {
      "cell_type": "markdown",
      "metadata": {
        "id": "fRLS-hMglBxY"
      },
      "source": [
        "Print our model's confusion matrix"
      ]
    },
    {
      "cell_type": "code",
      "metadata": {
        "colab": {
          "base_uri": "https://localhost:8080/"
        },
        "id": "d9rWeSbolD1d",
        "outputId": "2d62b722-fd22-45da-960f-3cd4cd2dce68"
      },
      "source": [
        "print(confusion_matrix(predictions, Y_test))"
      ],
      "execution_count": null,
      "outputs": [
        {
          "output_type": "stream",
          "name": "stdout",
          "text": [
            "[[856  65 199]\n",
            " [ 23  97  46]\n",
            " [186 134 676]]\n"
          ]
        }
      ]
    },
    {
      "cell_type": "markdown",
      "metadata": {
        "id": "Twfk0cSB-GY6"
      },
      "source": [
        "Plotting the learning curves"
      ]
    },
    {
      "cell_type": "code",
      "metadata": {
        "colab": {
          "base_uri": "https://localhost:8080/",
          "height": 621
        },
        "id": "vjp8c--r-KVi",
        "outputId": "55a522c2-7996-41a7-bbeb-b6a1af7d9f86"
      },
      "source": [
        "#This function returns the training score and validation score based on the batch_size given\n",
        "#For example if the batch size is 0.1 then the train will start from 10% of the dataset and continue at\n",
        "#20%,30%,... until it reaches 100%\n",
        "def get_model_scores(estimator,vectorizer,train,test,batch_size=0.1):\n",
        "    train_scores = []\n",
        "    test_scores = []\n",
        "    batch = 0\n",
        "    X_test = clean_data(test.tweet)\n",
        "    Xtest_all_vector = vectorizer.fit_transform(X_test)\n",
        "    Y_test = test.label\n",
        "    for i in range(int(1/batch_size)):\n",
        "        batch = batch + batch_size\n",
        "        if (batch > 1):\n",
        "          batch = 1\n",
        "        #Training set splitting with each time by 7% more\n",
        "        train_batch, test_all = train_test_split(train, test_size=1, train_size=batch)\n",
        "        #separate X and Y\n",
        "        X_train_batch = train_batch.tweet\n",
        "        Y_train_batch = train_batch.label\n",
        "        #Clean X_train\n",
        "        X_train_batch = clean_data(X_train_batch)\n",
        "        #fit predict in the current batch\n",
        "        Xtrain_batch_vector = vectorizer.fit_transform(X_train_batch)\n",
        "        model = estimator.fit(Xtrain_batch_vector,Y_train_batch)\n",
        "        Xtrain_batch_test_vector = vectorizer.fit_transform(X_train_batch)\n",
        "        predictions = model.predict(Xtrain_batch_test_vector)\n",
        "        f1 = f1_score(Y_train_batch, predictions, average='micro')\n",
        "        train_scores.append(f1)\n",
        "        #Validation fot predict and score on the full validation set\n",
        "        predictions = model.predict(Xtest_all_vector)\n",
        "        f1 = f1_score(Y_test, predictions, average='micro')\n",
        "        test_scores.append(f1)\n",
        "    return train_scores, test_scores\n",
        "\n",
        "#plot curves\n",
        "def plot_learning_curve(estimator, vectorizer,title, tr, tst, batch_size=0.1, axes=None, ylim=None,):\n",
        "    if axes is None:\n",
        "        _, axes = plt.subplots(1, 3, figsize=(20, 5))\n",
        "\n",
        "    axes.set_title(title)\n",
        "    if ylim is not None:\n",
        "        axes.set_ylim(*ylim)\n",
        "    axes.set_xlabel(\"Training examples\")\n",
        "    axes.set_ylabel(\"f1-Score\")\n",
        "\n",
        "    train_sizes=np.linspace(tr.shape[0]*batch_size, tr.shape[0], num=int(1/batch_size))\n",
        "    train_scores, test_scores = get_model_scores(estimator, vectorizer, tr, tst, batch_size)\n",
        "    #Uncomment the below code to see exactly the score numbers at each dot of the plot\n",
        "    #print(\"TRAIN SCORES: \", train_scores)\n",
        "    #print(\"TEST SCORES: \", test_scores)\n",
        "    axes.grid()\n",
        "    axes.plot(\n",
        "        train_sizes, train_scores, \"o-\", color=\"r\", label=\"Training score\"\n",
        "    )\n",
        "    axes.plot(\n",
        "        train_sizes, test_scores, \"o-\", color=\"g\", label=\"Validation score\"\n",
        "    )\n",
        "    axes.legend(loc=\"best\")\n",
        "    return plt\n",
        "\n",
        "\n",
        "fig, axes = plt.subplots(1, 1, figsize=(10, 10))\n",
        "estimator=LogisticRegression(max_iter=5000, multi_class='multinomial')\n",
        "title = \"Learning Curves (Naive Bayes)\"\n",
        "\n",
        "plot_learning_curve(\n",
        "    estimator, vectorizer,\"Learning Curves\", trainset, testset, 0.07, axes=axes, ylim=(0.2, 1.01)\n",
        ")\n",
        "\n",
        "plt.show()"
      ],
      "execution_count": null,
      "outputs": [
        {
          "output_type": "display_data",
          "data": {
            "image/png": "[encoded data removed]",
            "text/plain": [
              "<Figure size 720x720 with 1 Axes>"
            ]
          },
          "metadata": {
            "needs_background": "light"
          }
        }
      ]
    },
    {
      "cell_type": "markdown",
      "metadata": {
        "id": "VD7fr1WjtMUa"
      },
      "source": [
        "After all the tests i reached in this final code piece which achieves 71.3% accuracy on the test set and almost no overfitting"
      ]
    },
    {
      "cell_type": "code",
      "metadata": {
        "colab": {
          "base_uri": "https://localhost:8080/",
          "height": 743
        },
        "id": "ouIWfeGytcnr",
        "outputId": "885ed6e6-b8fd-4bbb-9187-ee4225d50d1d"
      },
      "source": [
        "import pandas as pd\n",
        "from sklearn.linear_model import LogisticRegression\n",
        "from sklearn.feature_extraction.text import *\n",
        "from sklearn.metrics import f1_score,precision_score,recall_score,confusion_matrix,accuracy_score\n",
        "from sklearn.model_selection import learning_curve,train_test_split\n",
        "import numpy as np\n",
        "import matplotlib.pyplot as plt\n",
        "from sklearn.naive_bayes import GaussianNB\n",
        "from sklearn.model_selection import learning_curve,ShuffleSplit\n",
        "import nltk\n",
        "from nltk.corpus import stopwords\n",
        "from nltk.tokenize import word_tokenize,RegexpTokenizer\n",
        "from nltk.stem import PorterStemmer\n",
        "\n",
        "#dataset and variables initialization\n",
        "pd.options.mode.chained_assignment = None\n",
        "fields = ['tweet', 'label']\n",
        "trainset = pd.read_csv(\"/content/data/vs_train.csv\", usecols=fields)\n",
        "testset = pd.read_csv(\"/content/data/vs_dev.csv\", usecols=fields)\n",
        "X_train = []\n",
        "Y_train = []\n",
        "X_train = trainset.tweet\n",
        "Y_train = trainset.label\n",
        "X_test = []\n",
        "Y_test = []\n",
        "X_test = testset.tweet\n",
        "Y_test = testset.label\n",
        "\n",
        "#nltk stopwords and punctuation datasets download\n",
        "nltk.download('stopwords')\n",
        "nltk.download('punkt')\n",
        "\n",
        "#data cleaning\n",
        "def clean_data(dataset):\n",
        "    stop_words = set(stopwords.words('english'))\n",
        "    new_dataset = []\n",
        "    for row in dataset:\n",
        "      dataset_tokens = word_tokenize(row)\n",
        "      filtered = \"\"\n",
        "      for w in dataset_tokens:\n",
        "        if (w not in stop_words) and (\"http\" not in w):\n",
        "          if ('#' in w) or ('@' in w):\n",
        "            w.replace('#','')\n",
        "            w.replace('@','')\n",
        "            w.replace(',','')\n",
        "            w.replace('.','')\n",
        "          filtered = filtered + \" \" + w\n",
        "      new_dataset.append(filtered)\n",
        "    return new_dataset\n",
        "X_train = clean_data(X_train)\n",
        "X_test = clean_data(X_test)\n",
        "\n",
        "#vectorizing and training\n",
        "vectorizer = HashingVectorizer(strip_accents = 'unicode', n_features=3000)\n",
        "X_train_vector = vectorizer.fit_transform(X_train)\n",
        "model = LogisticRegression(max_iter=5000, multi_class='multinomial').fit(X_train_vector,Y_train)\n",
        "\n",
        "#predict and calculate scores\n",
        "X_test_vector = vectorizer.fit_transform(X_test)\n",
        "predictions = model.predict(X_test_vector)\n",
        "f1_micro = f1_score(Y_test, predictions, average='micro')\n",
        "f1_weighted = f1_score(Y_test, predictions, average='weighted')\n",
        "acc_score = accuracy_score(Y_test,predictions)\n",
        "#Print scores\n",
        "print(\"f1-micro: \", f1_micro*100,\"%\")\n",
        "print(\"f1-weighted score: \", f1_weighted*100,\"%\")\n",
        "print(\"accuracy score: \", acc_score*100,\"%\")\n",
        "\n",
        "#This function returns the training score and validation score based on the batch_size given\n",
        "#For example if the batch size is 0.1 then the train will start from 10% of the dataset and continue at\n",
        "#20%,30%,... until it reaches 100%\n",
        "def get_model_scores(estimator,vectorizer,train,test,batch_size=0.1):\n",
        "    train_scores = []\n",
        "    test_scores = []\n",
        "    batch = 0\n",
        "    X_test = clean_data(test.tweet)\n",
        "    Xtest_all_vector = vectorizer.fit_transform(X_test)\n",
        "    Y_test = test.label\n",
        "    for i in range(int(1/batch_size)):\n",
        "        batch = batch + batch_size\n",
        "        if (batch > 1):\n",
        "          batch = 1\n",
        "        #Training set splitting with each time by 7% more\n",
        "        train_batch, test_all = train_test_split(train, test_size=1, train_size=batch)\n",
        "        #separate X and Y\n",
        "        X_train_batch = train_batch.tweet\n",
        "        Y_train_batch = train_batch.label\n",
        "        #Clean X_train\n",
        "        X_train_batch = clean_data(X_train_batch)\n",
        "        #fit predict in the current batch\n",
        "        Xtrain_batch_vector = vectorizer.fit_transform(X_train_batch)\n",
        "        model = estimator.fit(Xtrain_batch_vector,Y_train_batch)\n",
        "        Xtrain_batch_test_vector = vectorizer.fit_transform(X_train_batch)\n",
        "        predictions = model.predict(Xtrain_batch_test_vector)\n",
        "        f1 = f1_score(Y_train_batch, predictions, average='micro')\n",
        "        train_scores.append(f1)\n",
        "        #Validation fot predict and score on the full validation set\n",
        "        predictions = model.predict(Xtest_all_vector)\n",
        "        f1 = f1_score(Y_test, predictions, average='micro')\n",
        "        test_scores.append(f1)\n",
        "    return train_scores, test_scores\n",
        "\n",
        "#plot curves\n",
        "def plot_learning_curve(estimator, vectorizer,title, tr, tst, batch_size=0.1, axes=None, ylim=None,):\n",
        "    if axes is None:\n",
        "        _, axes = plt.subplots(1, 3, figsize=(20, 5))\n",
        "\n",
        "    axes.set_title(title)\n",
        "    if ylim is not None:\n",
        "        axes.set_ylim(*ylim)\n",
        "    axes.set_xlabel(\"Training examples\")\n",
        "    axes.set_ylabel(\"f1-Score\")\n",
        "\n",
        "    train_sizes=np.linspace(tr.shape[0]*batch_size, tr.shape[0], num=int(1/batch_size))\n",
        "    train_scores, test_scores = get_model_scores(estimator, vectorizer, tr, tst, batch_size)\n",
        "    #Uncomment the below code to see exactly the score numbers at each dot of the plot\n",
        "    #print(\"TRAIN SCORES: \", train_scores)\n",
        "    #print(\"TEST SCORES: \", test_scores)\n",
        "    axes.grid()\n",
        "    axes.plot(\n",
        "        train_sizes, train_scores, \"o-\", color=\"r\", label=\"Training score\"\n",
        "    )\n",
        "    axes.plot(\n",
        "        train_sizes, test_scores, \"o-\", color=\"g\", label=\"Validation score\"\n",
        "    )\n",
        "    axes.legend(loc=\"best\")\n",
        "    return plt\n",
        "\n",
        "\n",
        "fig, axes = plt.subplots(1, 1, figsize=(10, 10))\n",
        "estimator=LogisticRegression(max_iter=5000, multi_class='multinomial')\n",
        "title = \"Learning Curves (Naive Bayes)\"\n",
        "\n",
        "plot_learning_curve(\n",
        "    estimator, vectorizer,\"Learning Curves\", trainset, testset, 0.07, axes=axes, ylim=(0.2, 1.01)\n",
        ")\n",
        "\n",
        "plt.show()"
      ],
      "execution_count": 3,
      "outputs": [
        {
          "output_type": "stream",
          "name": "stdout",
          "text": [
            "[nltk_data] Downloading package stopwords to /root/nltk_data...\n",
            "[nltk_data]   Package stopwords is already up-to-date!\n",
            "[nltk_data] Downloading package punkt to /root/nltk_data...\n",
            "[nltk_data]   Package punkt is already up-to-date!\n",
            "f1-micro:  71.34092900964066 %\n",
            "f1-weighted score:  70.4319025648829 %\n",
            "accuracy score:  71.34092900964066 %\n"
          ]
        },
        {
          "output_type": "display_data",
          "data": {
            "image/png": "[encoded data removed]",
            "text/plain": [
              "<Figure size 720x720 with 1 Axes>"
            ]
          },
          "metadata": {
            "needs_background": "light"
          }
        }
      ]
    }
  ]
}